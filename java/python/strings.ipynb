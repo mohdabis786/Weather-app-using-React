{
 "cells": [
  {
   "cell_type": "code",
   "execution_count": 2,
   "metadata": {},
   "outputs": [
    {
     "ename": "TypeError",
     "evalue": "bad operand type for unary +: 'str'",
     "output_type": "error",
     "traceback": [
      "\u001b[1;31m---------------------------------------------------------------------------\u001b[0m",
      "\u001b[1;31mTypeError\u001b[0m                                 Traceback (most recent call last)",
      "\u001b[1;32mc:\\Users\\ashab baqri\\python\\strings.ipynb Cell 1\u001b[0m line \u001b[0;36m8\n\u001b[0;32m      <a href='vscode-notebook-cell:/c%3A/Users/ashab%20baqri/python/strings.ipynb#W0sZmlsZQ%3D%3D?line=2'>3</a>\u001b[0m anotherfriend\u001b[39m=\u001b[39m\u001b[39m'\u001b[39m\u001b[39mlovish\u001b[39m\u001b[39m'\u001b[39m\n\u001b[0;32m      <a href='vscode-notebook-cell:/c%3A/Users/ashab%20baqri/python/strings.ipynb#W0sZmlsZQ%3D%3D?line=3'>4</a>\u001b[0m apple\u001b[39m=\u001b[39m\u001b[39m'''\u001b[39m\u001b[39mhe said,\u001b[39m\n\u001b[0;32m      <a href='vscode-notebook-cell:/c%3A/Users/ashab%20baqri/python/strings.ipynb#W0sZmlsZQ%3D%3D?line=4'>5</a>\u001b[0m \u001b[39mhi harry\u001b[39m\n\u001b[0;32m      <a href='vscode-notebook-cell:/c%3A/Users/ashab%20baqri/python/strings.ipynb#W0sZmlsZQ%3D%3D?line=5'>6</a>\u001b[0m \u001b[39mhey i am good\u001b[39m\n\u001b[0;32m      <a href='vscode-notebook-cell:/c%3A/Users/ashab%20baqri/python/strings.ipynb#W0sZmlsZQ%3D%3D?line=6'>7</a>\u001b[0m \u001b[39m\"\u001b[39m\u001b[39mi want to eat an apple\u001b[39m\u001b[39m'''\u001b[39m\n\u001b[1;32m----> <a href='vscode-notebook-cell:/c%3A/Users/ashab%20baqri/python/strings.ipynb#W0sZmlsZQ%3D%3D?line=7'>8</a>\u001b[0m \u001b[39mprint\u001b[39m(\u001b[39m\"\u001b[39m\u001b[39mhello\u001b[39m\u001b[39m\"\u001b[39m,\u001b[39m+\u001b[39;49m name)\n\u001b[0;32m      <a href='vscode-notebook-cell:/c%3A/Users/ashab%20baqri/python/strings.ipynb#W0sZmlsZQ%3D%3D?line=8'>9</a>\u001b[0m \u001b[39mprint\u001b[39m(apple)\n",
      "\u001b[1;31mTypeError\u001b[0m: bad operand type for unary +: 'str'"
     ]
    }
   ],
   "source": [
    "name=\"harry\"\n",
    "friend=\"rohan\"\n",
    "anotherfriend='lovish'\n",
    "apple='''he said,\n",
    "hi harry\n",
    "hey i am good\n",
    "\"i want to eat an apple'''\n",
    "print(\"hello,\"+ name)\n",
    "print(apple)"
   ]
  }
 ],
 "metadata": {
  "kernelspec": {
   "display_name": "Python 3",
   "language": "python",
   "name": "python3"
  },
  "language_info": {
   "codemirror_mode": {
    "name": "ipython",
    "version": 3
   },
   "file_extension": ".py",
   "mimetype": "text/x-python",
   "name": "python",
   "nbconvert_exporter": "python",
   "pygments_lexer": "ipython3",
   "version": "3.10.4"
  }
 },
 "nbformat": 4,
 "nbformat_minor": 2
}
