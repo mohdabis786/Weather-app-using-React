{
 "cells": [
  {
   "cell_type": "code",
   "execution_count": 1,
   "metadata": {},
   "outputs": [
    {
     "name": "stdout",
     "output_type": "stream",
     "text": [
      "1\n",
      "True\n",
      "10\n",
      "the type of a is <class 'int'>\n",
      "the type of b is  <class 'bool'>\n",
      "the type of c is <class 'str'>\n"
     ]
    }
   ],
   "source": [
    "a=1\n",
    "b=True\n",
    "c=\"harry\"\n",
    "d=None\n",
    "print(a)\n",
    "print(b)\n",
    "a1=9\n",
    "print(a+a1)\n",
    "print(\"the type of a is\",type(a))\n",
    "print(\"the type of b is \",type(b))\n",
    "print(\"the type of c is\",type(c))"
   ]
  }
 ],
 "metadata": {
  "kernelspec": {
   "display_name": "Python 3",
   "language": "python",
   "name": "python3"
  },
  "language_info": {
   "codemirror_mode": {
    "name": "ipython",
    "version": 3
   },
   "file_extension": ".py",
   "mimetype": "text/x-python",
   "name": "python",
   "nbconvert_exporter": "python",
   "pygments_lexer": "ipython3",
   "version": "3.10.4"
  }
 },
 "nbformat": 4,
 "nbformat_minor": 2
}
